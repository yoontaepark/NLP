{
 "cells": [
  {
   "cell_type": "code",
   "execution_count": 1,
   "id": "0e32c8c5",
   "metadata": {
    "scrolled": true
   },
   "outputs": [
    {
     "name": "stdout",
     "output_type": "stream",
     "text": [
      "(1482535, 8)\n"
     ]
    },
    {
     "data": {
      "text/html": [
       "<div>\n",
       "<style scoped>\n",
       "    .dataframe tbody tr th:only-of-type {\n",
       "        vertical-align: middle;\n",
       "    }\n",
       "\n",
       "    .dataframe tbody tr th {\n",
       "        vertical-align: top;\n",
       "    }\n",
       "\n",
       "    .dataframe thead th {\n",
       "        text-align: right;\n",
       "    }\n",
       "</style>\n",
       "<table border=\"1\" class=\"dataframe\">\n",
       "  <thead>\n",
       "    <tr style=\"text-align: right;\">\n",
       "      <th></th>\n",
       "      <th>train_id</th>\n",
       "      <th>name</th>\n",
       "      <th>item_condition_id</th>\n",
       "      <th>category_name</th>\n",
       "      <th>brand_name</th>\n",
       "      <th>price</th>\n",
       "      <th>shipping</th>\n",
       "      <th>item_description</th>\n",
       "    </tr>\n",
       "  </thead>\n",
       "  <tbody>\n",
       "    <tr>\n",
       "      <th>0</th>\n",
       "      <td>0</td>\n",
       "      <td>MLB Cincinnati Reds T Shirt Size XL</td>\n",
       "      <td>3</td>\n",
       "      <td>Men/Tops/T-shirts</td>\n",
       "      <td>NaN</td>\n",
       "      <td>10.0</td>\n",
       "      <td>1</td>\n",
       "      <td>No description yet</td>\n",
       "    </tr>\n",
       "    <tr>\n",
       "      <th>1</th>\n",
       "      <td>1</td>\n",
       "      <td>Razer BlackWidow Chroma Keyboard</td>\n",
       "      <td>3</td>\n",
       "      <td>Electronics/Computers &amp; Tablets/Components &amp; P...</td>\n",
       "      <td>Razer</td>\n",
       "      <td>52.0</td>\n",
       "      <td>0</td>\n",
       "      <td>This keyboard is in great condition and works ...</td>\n",
       "    </tr>\n",
       "    <tr>\n",
       "      <th>2</th>\n",
       "      <td>2</td>\n",
       "      <td>AVA-VIV Blouse</td>\n",
       "      <td>1</td>\n",
       "      <td>Women/Tops &amp; Blouses/Blouse</td>\n",
       "      <td>Target</td>\n",
       "      <td>10.0</td>\n",
       "      <td>1</td>\n",
       "      <td>Adorable top with a hint of lace and a key hol...</td>\n",
       "    </tr>\n",
       "  </tbody>\n",
       "</table>\n",
       "</div>"
      ],
      "text/plain": [
       "   train_id                                 name  item_condition_id  \\\n",
       "0         0  MLB Cincinnati Reds T Shirt Size XL                  3   \n",
       "1         1     Razer BlackWidow Chroma Keyboard                  3   \n",
       "2         2                       AVA-VIV Blouse                  1   \n",
       "\n",
       "                                       category_name brand_name  price  \\\n",
       "0                                  Men/Tops/T-shirts        NaN   10.0   \n",
       "1  Electronics/Computers & Tablets/Components & P...      Razer   52.0   \n",
       "2                        Women/Tops & Blouses/Blouse     Target   10.0   \n",
       "\n",
       "   shipping                                   item_description  \n",
       "0         1                                 No description yet  \n",
       "1         0  This keyboard is in great condition and works ...  \n",
       "2         1  Adorable top with a hint of lace and a key hol...  "
      ]
     },
     "execution_count": 1,
     "metadata": {},
     "output_type": "execute_result"
    }
   ],
   "source": [
    "from sklearn.linear_model import Ridge , LogisticRegression\n",
    "from sklearn.model_selection import train_test_split, cross_val_score\n",
    "from sklearn.feature_extraction.text import CountVectorizer , TfidfVectorizer\n",
    "import pandas as pd\n",
    "\n",
    "mercari_df= pd.read_csv('./mercari_train.tsv',sep='\\t')\n",
    "print(mercari_df.shape)\n",
    "mercari_df.head(3)"
   ]
  },
  {
   "cell_type": "code",
   "execution_count": 2,
   "id": "5aa84bd7",
   "metadata": {},
   "outputs": [
    {
     "name": "stdout",
     "output_type": "stream",
     "text": [
      "<class 'pandas.core.frame.DataFrame'>\n",
      "RangeIndex: 1482535 entries, 0 to 1482534\n",
      "Data columns (total 8 columns):\n",
      " #   Column             Non-Null Count    Dtype  \n",
      "---  ------             --------------    -----  \n",
      " 0   train_id           1482535 non-null  int64  \n",
      " 1   name               1482535 non-null  object \n",
      " 2   item_condition_id  1482535 non-null  int64  \n",
      " 3   category_name      1476208 non-null  object \n",
      " 4   brand_name         849853 non-null   object \n",
      " 5   price              1482535 non-null  float64\n",
      " 6   shipping           1482535 non-null  int64  \n",
      " 7   item_description   1482531 non-null  object \n",
      "dtypes: float64(1), int64(3), object(4)\n",
      "memory usage: 90.5+ MB\n"
     ]
    }
   ],
   "source": [
    "mercari_df.info()"
   ]
  },
  {
   "cell_type": "code",
   "execution_count": 3,
   "id": "13e4bee6",
   "metadata": {},
   "outputs": [
    {
     "data": {
      "image/png": "[encoded data removed]",
      "text/plain": [
       "<Figure size 720x288 with 1 Axes>"
      ]
     },
     "metadata": {
      "needs_background": "light"
     },
     "output_type": "display_data"
    }
   ],
   "source": [
    "# It is very important to see the distribution of target value in case of regression\n",
    "# For classification, it is also important to see the imbalance of dataset\n",
    "\n",
    "# If skewed: \n",
    "# 1) Regression - Scaling(log scale, or min-max scale) + outlier value correction \n",
    "# 2) Classification - oversampling, SMOTE, \n",
    "#    + cost fuction revise to have more cost if prediction for imbalanced target value is wrong \n",
    "\n",
    "import matplotlib.pyplot as plt\n",
    "import seaborn as sns\n",
    "%matplotlib inline\n",
    "\n",
    "y_train_df = mercari_df['price']\n",
    "plt.figure(figsize=(10,4))\n",
    "# sns.histplot(y_train_df)\n",
    "plt.bar(y_train_df.value_counts().sort_index().index, y_train_df.value_counts().sort_index())\n",
    "plt.show()"
   ]
  },
  {
   "cell_type": "code",
   "execution_count": 4,
   "id": "8b201c95",
   "metadata": {},
   "outputs": [
    {
     "data": {
      "image/png": "[encoded data removed]",
      "text/plain": [
       "<Figure size 432x288 with 1 Axes>"
      ]
     },
     "metadata": {
      "needs_background": "light"
     },
     "output_type": "display_data"
    }
   ],
   "source": [
    "# Normalize target value\n",
    "import numpy as np\n",
    "\n",
    "y_train_df = np.log1p(y_train_df)\n",
    "plt.bar(y_train_df.value_counts().sort_index().index, y_train_df.value_counts().sort_index())\n",
    "plt.show()"
   ]
  },
  {
   "cell_type": "code",
   "execution_count": 5,
   "id": "8cec4d08",
   "metadata": {
    "scrolled": true
   },
   "outputs": [
    {
     "data": {
      "text/plain": [
       "0    2.397895\n",
       "1    3.970292\n",
       "2    2.397895\n",
       "3    3.583519\n",
       "4    3.806662\n",
       "Name: price, dtype: float64"
      ]
     },
     "execution_count": 5,
     "metadata": {},
     "output_type": "execute_result"
    }
   ],
   "source": [
    "# Conduct scaling\n",
    "mercari_df['price'] = np.log1p(mercari_df['price'])\n",
    "mercari_df['price'].head()"
   ]
  },
  {
   "cell_type": "code",
   "execution_count": 18,
   "id": "a3068848",
   "metadata": {},
   "outputs": [
    {
     "data": {
      "text/plain": [
       "82489"
      ]
     },
     "execution_count": 18,
     "metadata": {},
     "output_type": "execute_result"
    }
   ],
   "source": [
    "mercari_df[mercari_df['item_description'] == 'No description yet']['item_description'].count()"
   ]
  },
  {
   "cell_type": "code",
   "execution_count": 21,
   "id": "73d92f4c",
   "metadata": {},
   "outputs": [],
   "source": [
    "## if you want to use apply lambda function with creating multiple return values\n",
    "## You should consider using zip function. By using zip function with *, so zip(* /// ) makes something like\n",
    "## zip file and can be unzipped into multiple values\n",
    "def split_cat(category_name):\n",
    "    try:\n",
    "        return category_name.split('/')\n",
    "    except:\n",
    "        return ['Other_Null', 'Other_Null', 'Other_Null']\n",
    "    \n",
    "\n",
    "\n",
    "mercari_df['cat_dae'], mercari_df['cat_joong'], mercari_df['cat_so'] = zip(*mercari_df['category_name'].apply(lambda x: split_cat(x)))"
   ]
  },
  {
   "cell_type": "code",
   "execution_count": 29,
   "id": "ada89ba2",
   "metadata": {},
   "outputs": [
    {
     "name": "stdout",
     "output_type": "stream",
     "text": [
      "114 114\n",
      "871 871\n"
     ]
    }
   ],
   "source": [
    "## len + value_counts() == .nunique()\n",
    "print(len(mercari_df['cat_joong'].value_counts()), mercari_df['cat_joong'].nunique())\n",
    "\n",
    "print(len(mercari_df['cat_so'].value_counts()), mercari_df['cat_so'].nunique())"
   ]
  },
  {
   "cell_type": "code",
   "execution_count": 31,
   "id": "f5e060b3",
   "metadata": {},
   "outputs": [],
   "source": [
    "# drop category_name, as I already divided values into three different columns\n",
    "mercari_df.drop('category_name', axis=1, inplace=True)"
   ]
  },
  {
   "cell_type": "code",
   "execution_count": null,
   "id": "c75d91c1",
   "metadata": {},
   "outputs": [],
   "source": [
    "mercari_df['brand_name'] = mercari_df['brand_name'].fillna(value='Other_Null')\n",
    "mercari_df['category_name'] = mercari_df['category_name'].fillna(value='Other_Null')\n",
    "mercari_df['item_description'] = mercari_df['item_description'].fillna(value='Other_Null')\n",
    "\n",
    "# 각 컬럼별로 Null값 건수 확인. 모두 0가 나와야 합니다.\n",
    "mercari_df.isnull().sum()"
   ]
  },
  {
   "cell_type": "code",
   "execution_count": 33,
   "id": "3b4fb5cd",
   "metadata": {},
   "outputs": [
    {
     "data": {
      "text/plain": [
       "train_id                  0\n",
       "name                      0\n",
       "item_condition_id         0\n",
       "brand_name           632682\n",
       "price                     0\n",
       "shipping                  0\n",
       "item_description          4\n",
       "cat_dae                   0\n",
       "cat_joong                 0\n",
       "cat_so                    0\n",
       "dtype: int64"
      ]
     },
     "execution_count": 33,
     "metadata": {},
     "output_type": "execute_result"
    }
   ],
   "source": [
    "mercari_df.isnull().sum()"
   ]
  },
  {
   "cell_type": "code",
   "execution_count": 34,
   "id": "3c723e60",
   "metadata": {},
   "outputs": [],
   "source": [
    "mercari_df['brand_name'] = mercari_df['brand_name'].fillna(value='Other_Null')\n",
    "mercari_df['item_description'] = mercari_df['item_description'].fillna(value='Other_Null')"
   ]
  },
  {
   "cell_type": "code",
   "execution_count": 36,
   "id": "61492a45",
   "metadata": {
    "scrolled": true
   },
   "outputs": [
    {
     "data": {
      "text/plain": [
       "0"
      ]
     },
     "execution_count": 36,
     "metadata": {},
     "output_type": "execute_result"
    }
   ],
   "source": [
    "mercari_df.isnull().sum().sum()"
   ]
  },
  {
   "cell_type": "markdown",
   "id": "d4c85cee",
   "metadata": {},
   "source": [
    "### Feature encoding & vectorization "
   ]
  },
  {
   "cell_type": "code",
   "execution_count": 40,
   "id": "9844d43a",
   "metadata": {},
   "outputs": [
    {
     "data": {
      "text/plain": [
       "4810"
      ]
     },
     "execution_count": 40,
     "metadata": {},
     "output_type": "execute_result"
    }
   ],
   "source": [
    "len(mercari_df['brand_name'].value_counts())"
   ]
  },
  {
   "cell_type": "code",
   "execution_count": 41,
   "id": "9eb3fd13",
   "metadata": {},
   "outputs": [
    {
     "data": {
      "text/plain": [
       "Other_Null           632682\n",
       "PINK                  54088\n",
       "Nike                  54043\n",
       "Victoria's Secret     48036\n",
       "LuLaRoe               31024\n",
       "Apple                 17322\n",
       "FOREVER 21            15186\n",
       "Nintendo              15007\n",
       "Lululemon             14558\n",
       "Michael Kors          13928\n",
       "Name: brand_name, dtype: int64"
      ]
     },
     "execution_count": 41,
     "metadata": {},
     "output_type": "execute_result"
    }
   ],
   "source": [
    "mercari_df['brand_name'].value_counts()[:10]"
   ]
  },
  {
   "cell_type": "code",
   "execution_count": 43,
   "id": "a6146628",
   "metadata": {},
   "outputs": [
    {
     "data": {
      "text/plain": [
       "1225273"
      ]
     },
     "execution_count": 43,
     "metadata": {},
     "output_type": "execute_result"
    }
   ],
   "source": [
    "len(mercari_df['name'].value_counts())"
   ]
  },
  {
   "cell_type": "code",
   "execution_count": 44,
   "id": "6cb7080b",
   "metadata": {},
   "outputs": [
    {
     "data": {
      "text/plain": [
       "Bundle                 2232\n",
       "Reserved                453\n",
       "Converse                445\n",
       "BUNDLE                  418\n",
       "Dress                   410\n",
       "Coach purse             404\n",
       "Lularoe TC leggings     396\n",
       "Romper                  353\n",
       "Nike                    340\n",
       "Vans                    334\n",
       "Name: name, dtype: int64"
      ]
     },
     "execution_count": 44,
     "metadata": {},
     "output_type": "execute_result"
    }
   ],
   "source": [
    "mercari_df['name'].value_counts()[:10]"
   ]
  },
  {
   "cell_type": "code",
   "execution_count": 52,
   "id": "fa1ce2fa",
   "metadata": {},
   "outputs": [
    {
     "data": {
      "text/plain": [
       "145.7113889385411"
      ]
     },
     "execution_count": 52,
     "metadata": {},
     "output_type": "execute_result"
    }
   ],
   "source": [
    "# to know length of value, use .str.len()\n",
    "mercari_df['item_description'].str.len().mean()"
   ]
  },
  {
   "cell_type": "code",
   "execution_count": 60,
   "id": "b35bf839",
   "metadata": {},
   "outputs": [
    {
     "data": {
      "text/plain": [
       "1281427"
      ]
     },
     "execution_count": 60,
     "metadata": {},
     "output_type": "execute_result"
    }
   ],
   "source": [
    "len(mercari_df['item_description'].value_counts())"
   ]
  },
  {
   "cell_type": "code",
   "execution_count": 57,
   "id": "e1de8d32",
   "metadata": {
    "scrolled": true
   },
   "outputs": [
    {
     "data": {
      "text/plain": [
       "15"
      ]
     },
     "execution_count": 57,
     "metadata": {},
     "output_type": "execute_result"
    }
   ],
   "source": [
    "# 별건아니고, 메모리 확보용 펑션\n",
    "# import gc\n",
    "# gc.collect()"
   ]
  },
  {
   "cell_type": "markdown",
   "id": "c60796b7",
   "metadata": {},
   "source": [
    "## Name: Count, Item_description: Tf-idf "
   ]
  },
  {
   "cell_type": "code",
   "execution_count": 59,
   "id": "6997a1ab",
   "metadata": {},
   "outputs": [
    {
     "data": {
      "text/plain": [
       "((1482535, 30000), (1482535, 50000))"
      ]
     },
     "execution_count": 59,
     "metadata": {},
     "output_type": "execute_result"
    }
   ],
   "source": [
    "# We can just run one-hot encoding, but...it seems that we can also vectorize values into given max_features\n",
    "\n",
    "from sklearn.feature_extraction.text import CountVectorizer , TfidfVectorizer\n",
    "\n",
    "cnt_vec = CountVectorizer(max_features=30000)\n",
    "X_name = cnt_vec.fit_transform(mercari_df['name'])\n",
    "\n",
    "tfidf_descp = TfidfVectorizer(max_features=50000, ngram_range=(1,3), stop_words='english')\n",
    "X_descp = tfidf_descp.fit_transform(mercari_df['item_description'])\n",
    "\n",
    "X_name.shape, X_descp.shape"
   ]
  },
  {
   "cell_type": "code",
   "execution_count": 61,
   "id": "d5a78e75",
   "metadata": {},
   "outputs": [
    {
     "name": "stdout",
     "output_type": "stream",
     "text": [
      "<class 'pandas.core.frame.DataFrame'>\n",
      "RangeIndex: 1482535 entries, 0 to 1482534\n",
      "Data columns (total 10 columns):\n",
      " #   Column             Non-Null Count    Dtype  \n",
      "---  ------             --------------    -----  \n",
      " 0   train_id           1482535 non-null  int64  \n",
      " 1   name               1482535 non-null  object \n",
      " 2   item_condition_id  1482535 non-null  int64  \n",
      " 3   brand_name         1482535 non-null  object \n",
      " 4   price              1482535 non-null  float64\n",
      " 5   shipping           1482535 non-null  int64  \n",
      " 6   item_description   1482535 non-null  object \n",
      " 7   cat_dae            1482535 non-null  object \n",
      " 8   cat_joong          1482535 non-null  object \n",
      " 9   cat_so             1482535 non-null  object \n",
      "dtypes: float64(1), int64(3), object(6)\n",
      "memory usage: 113.1+ MB\n"
     ]
    }
   ],
   "source": [
    "mercari_df.info()"
   ]
  },
  {
   "cell_type": "code",
   "execution_count": 67,
   "id": "01cef8cf",
   "metadata": {},
   "outputs": [
    {
     "name": "stdout",
     "output_type": "stream",
     "text": [
      "train_id: 1482535\n",
      "name: 1225273\n",
      "item_condition_id: 5\n",
      "brand_name: 4810\n",
      "price: 828\n",
      "shipping: 2\n",
      "item_description: 1281427\n",
      "cat_dae: 11\n",
      "cat_joong: 114\n",
      "cat_so: 871\n"
     ]
    }
   ],
   "source": [
    "# What would you do if dataset is somewhat like below?\n",
    "# train_id: 1482535 -> will delete, so doesn't matter\n",
    "\n",
    "# name: 1225273 \n",
    "# -> What I did previously: just keep say top 20, and merge others into others\n",
    "# -> big issue and one-hot encoding? so maybe using SVM and get only few values\n",
    "# -> if it is a categorical data, and has meanings, then why not use NLP? -> Count              \n",
    "\n",
    "# item_condition_id: 5 -> one-hot encoding\n",
    "# brand_name: 4810 ?\n",
    "# price: 828 -> target value\n",
    "# shipping: 2 -> one-hot encoding\n",
    "\n",
    "# item_description: 1281427\n",
    "# Same issue, but this has more decription, and that means using tf-idf is more efficient\n",
    "\n",
    "# cat_dae: 11 -> one-hot encoding\n",
    "# cat_joong: 114 ?\n",
    "# cat_so: 871 ?\n",
    "\n",
    "print('train_id:', len(mercari_df['train_id'].value_counts()))\n",
    "print('name:', len(mercari_df['name'].value_counts()))\n",
    "print('item_condition_id:', len(mercari_df['item_condition_id'].value_counts()))\n",
    "print('brand_name:', len(mercari_df['brand_name'].value_counts()))\n",
    "print('price:', len(mercari_df['price'].value_counts()))\n",
    "print('shipping:', len(mercari_df['shipping'].value_counts()))\n",
    "print('item_description:', len(mercari_df['item_description'].value_counts()))\n",
    "print('cat_dae:', len(mercari_df['cat_dae'].value_counts()))\n",
    "print('cat_joong:', len(mercari_df['cat_joong'].value_counts()))\n",
    "print('cat_so:', len(mercari_df['cat_so'].value_counts()))"
   ]
  },
  {
   "cell_type": "code",
   "execution_count": 69,
   "id": "2d6fc753",
   "metadata": {},
   "outputs": [],
   "source": [
    "# If we were to use NLP, then use LabelBinarizer instead of get_dummies\n",
    "from sklearn.preprocessing import LabelBinarizer\n",
    "\n",
    "lb_brand_name = LabelBinarizer(sparse_output=True)\n",
    "X_brand = lb_brand_name.fit_transform(mercari_df['brand_name'])\n",
    "\n",
    "lb_item_cond_id = LabelBinarizer(sparse_output=True)\n",
    "X_item_cond_id = lb_item_cond_id.fit_transform(mercari_df['item_condition_id'])\n",
    "\n",
    "lb_shipping = LabelBinarizer(sparse_output=True)\n",
    "X_shipping = lb_shipping.fit_transform(mercari_df['shipping'])\n",
    "\n",
    "lb_cat_dae = LabelBinarizer(sparse_output=True)\n",
    "X_cat_dae = lb_cat_dae.fit_transform(mercari_df['cat_dae'])\n",
    "\n",
    "lb_cat_joong = LabelBinarizer(sparse_output=True)\n",
    "X_cat_joong = lb_cat_joong.fit_transform(mercari_df['cat_joong'])\n",
    "\n",
    "lb_cat_so = LabelBinarizer(sparse_output=True)\n",
    "X_cat_so = lb_cat_so.fit_transform(mercari_df['cat_so'])"
   ]
  },
  {
   "cell_type": "code",
   "execution_count": 70,
   "id": "02436fbb",
   "metadata": {},
   "outputs": [
    {
     "name": "stdout",
     "output_type": "stream",
     "text": [
      "<class 'scipy.sparse.csr.csr_matrix'> <class 'scipy.sparse.csr.csr_matrix'> <class 'scipy.sparse.csr.csr_matrix'>\n",
      "(1482535, 4810) (1482535, 5) (1482535, 1) (1482535, 11) (1482535, 114) (1482535, 871)\n"
     ]
    }
   ],
   "source": [
    "print(type(X_brand), type(X_item_cond_id), type(X_shipping))\n",
    "print(X_brand.shape, X_item_cond_id.shape, X_shipping.shape, X_cat_dae.shape, X_cat_joong.shape, X_cat_so.shape)"
   ]
  },
  {
   "cell_type": "code",
   "execution_count": 78,
   "id": "a6c37284",
   "metadata": {},
   "outputs": [],
   "source": [
    "# from scipy.sparse import hstack\n",
    "# import gc\n",
    "\n",
    "# sparse_matrix_list = (X_name, X_descp, X_brand, X_item_cond_id, X_shipping, X_cat_dae, X_cat_joong, X_cat_so)\n",
    "\n",
    "# # csr matrix 상태를 유지하면서 hstack으로 쭉 합친다. \n",
    "# X_features_sparse = hstack(sparse_matrix_list).tocsr()\n",
    "# type(X_features_sparse), X_features_sparse.shape\n",
    "\n",
    "# del X_features_sparse"
   ]
  },
  {
   "cell_type": "code",
   "execution_count": 84,
   "id": "d9a8f3dd",
   "metadata": {},
   "outputs": [],
   "source": [
    "# Defining Cost Function\n",
    "def rmsle(y, y_pred):\n",
    "    return np.sqrt(np.mean(np.power(np.log1p(y) - np.log1p(y_pred), 2)))\n",
    "\n",
    "def evaluate_org_price(y_test, preds):\n",
    "    preds_exmpm = np.expm1(preds)\n",
    "    y_test_exmpm = np.expm1(y_test)\n",
    "    \n",
    "    rmsle_result = rmsle(y_test_exmpm, preds_exmpm)\n",
    "    \n",
    "    return rmsle_result"
   ]
  },
  {
   "cell_type": "code",
   "execution_count": 82,
   "id": "80eef38b",
   "metadata": {},
   "outputs": [],
   "source": [
    "from scipy.sparse import hstack\n",
    "from sklearn.linear_model import Ridge , LogisticRegression\n",
    "from sklearn.model_selection import train_test_split, cross_val_score\n",
    "import gc\n",
    "\n",
    "def model_train_predict(model, matrix_list):\n",
    "    \n",
    "    X = hstack(matrix_list).tocsr()\n",
    "    \n",
    "    X_train, X_test, y_train, y_test = train_test_split(X, mercari_df['price'], test_size=0.3, random_state=0)\n",
    "    \n",
    "    model.fit(X_train, y_train)\n",
    "    preds = model.predict(X_test)\n",
    "    \n",
    "    del X, X_train, X_test, y_train\n",
    "    gc.collect()\n",
    "    \n",
    "    return preds, y_test    "
   ]
  },
  {
   "cell_type": "code",
   "execution_count": null,
   "id": "133f04c9",
   "metadata": {},
   "outputs": [],
   "source": [
    "linear_model = Ridge(solver = \"lsqr\", fit_intercept=False)\n",
    "\n",
    "sparse_matrix_list = (X_name, X_brand, X_item_cond_id,\n",
    "                      X_shipping, X_cat_dae, X_cat_jung, X_cat_so)\n",
    "linear_preds , y_test = model_train_predict(model=linear_model ,matrix_list=sparse_matrix_list)\n",
    "\n",
    "print('Item Description을 제외했을 때 rmsle 값:', evaluate_org_price(y_test , linear_preds))\n",
    "\n",
    "sparse_matrix_list = (X_descp, X_name, X_brand, X_item_cond_id,\n",
    "                      X_shipping, X_cat_dae, X_cat_jung, X_cat_so)\n",
    "\n",
    "linear_preds , y_test = model_train_predict(model=linear_model , matrix_list=sparse_matrix_list)\n",
    "print('Item Description을 포함한 rmsle 값:',  evaluate_org_price(y_test ,linear_preds))"
   ]
  },
  {
   "cell_type": "code",
   "execution_count": 85,
   "id": "a7ba7cb0",
   "metadata": {},
   "outputs": [
    {
     "name": "stdout",
     "output_type": "stream",
     "text": [
      "1st: 0.5028493714712275\n",
      "2nd: 0.4703082873424784\n"
     ]
    }
   ],
   "source": [
    "linear_model = Ridge(solver='lsqr', fit_intercept=False)\n",
    "\n",
    "sparse_matrix_list = (X_name, X_brand, X_item_cond_id, X_shipping, X_cat_dae, X_cat_joong, X_cat_so)\n",
    "linear_preds, y_test = model_train_predict(model = linear_model, matrix_list = sparse_matrix_list)\n",
    "print('1st:', evaluate_org_price(y_test, linear_preds))\n",
    "\n",
    "sparse_matrix_list = (X_name, X_descp, X_brand, X_item_cond_id, X_shipping, X_cat_dae, X_cat_joong, X_cat_so)\n",
    "linear_preds, y_test = model_train_predict(model = linear_model, matrix_list = sparse_matrix_list)\n",
    "print('2nd:', evaluate_org_price(y_test, linear_preds))\n"
   ]
  },
  {
   "cell_type": "code",
   "execution_count": 86,
   "id": "c6927bc7",
   "metadata": {},
   "outputs": [
    {
     "name": "stdout",
     "output_type": "stream",
     "text": [
      "3rd: 0.4572554183552044\n"
     ]
    }
   ],
   "source": [
    "from lightgbm import LGBMRegressor\n",
    "\n",
    "sparse_matrix_list = (X_name, X_descp, X_brand, X_item_cond_id, X_shipping, X_cat_dae, X_cat_joong, X_cat_so)\n",
    "lgbm_model = LGBMRegressor(n_estimators=200, learning_rate=0.5, num_leaves=125, random_state=0)\n",
    "lgbm_preds, y_test = model_train_predict(model = lgbm_model, matrix_list = sparse_matrix_list)\n",
    "print('3rd:', evaluate_org_price(y_test, lgbm_preds))"
   ]
  },
  {
   "cell_type": "code",
   "execution_count": 87,
   "id": "e1a39a5a",
   "metadata": {},
   "outputs": [
    {
     "name": "stdout",
     "output_type": "stream",
     "text": [
      "4th 0.4498832275001616\n"
     ]
    }
   ],
   "source": [
    "# Combined version(in terms of regression, we can kind of combine models )\n",
    "preds = lgbm_preds * 0.45 + linear_preds * 0.55\n",
    "print('4th', evaluate_org_price(y_test, preds))"
   ]
  },
  {
   "cell_type": "code",
   "execution_count": null,
   "id": "23aa5b76",
   "metadata": {},
   "outputs": [],
   "source": []
  }
 ],
 "metadata": {
  "kernelspec": {
   "display_name": "Python 3",
   "language": "python",
   "name": "python3"
  },
  "language_info": {
   "codemirror_mode": {
    "name": "ipython",
    "version": 3
   },
   "file_extension": ".py",
   "mimetype": "text/x-python",
   "name": "python",
   "nbconvert_exporter": "python",
   "pygments_lexer": "ipython3",
   "version": "3.8.8"
  }
 },
 "nbformat": 4,
 "nbformat_minor": 5
}
